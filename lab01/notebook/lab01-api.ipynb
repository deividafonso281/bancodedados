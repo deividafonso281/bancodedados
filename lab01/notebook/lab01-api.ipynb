{
 "cells": [
  {
   "cell_type": "markdown",
   "metadata": {},
   "source": [
    "# Lab 1 - API de Acesso a Dados"
   ]
  },
  {
   "cell_type": "markdown",
   "metadata": {},
   "source": [
    "# Tarefa 1\n",
    "\n",
    "Das fontes de dados disponíveis, tente encontrar fontes com formatos diferentes e importá-las via Python. Busque pelo menos dois formatos."
   ]
  },
  {
   "cell_type": "code",
   "execution_count": 2,
   "metadata": {},
   "outputs": [
    {
     "name": "stdout",
     "output_type": "stream",
     "text": [
      "{\n",
      "  \"meta\": {\n",
      "    \"disclaimer\": \"Do not rely on openFDA to make decisions regarding medical care. While we make every effort to ensure that data is accurate, you should assume all results are unvalidated. We may limit or otherwise restrict your access to the API in line with our Terms of Service.\",\n",
      "    \"terms\": \"https://open.fda.gov/terms/\",\n",
      "    \"license\": \"https://open.fda.gov/license/\",\n",
      "    \"last_updated\": \"2021-08-04\",\n",
      "    \"results\": {\n",
      "      \"skip\": 0,\n",
      "      \"limit\": 1,\n",
      "      \"total\": 13703970\n",
      "    }\n",
      "  },\n",
      "  \"results\": [\n",
      "    {\n",
      "      \"receiptdateformat\": \"102\",\n",
      "      \"receiver\": null,\n",
      "      \"seriousnessdeath\": \"1\",\n",
      "      \"companynumb\": \"JACAN16471\",\n",
      "      \"receivedateformat\": \"102\",\n",
      "      \"primarysource\": {\n",
      "        \"reportercountry\": \"CANADA\",\n",
      "        \"qualification\": \"3\"\n",
      "      },\n",
      "      \"transmissiondateformat\": \"102\",\n",
      "      \"fulfillexpeditecriteria\": \"1\",\n",
      "      \"safetyreportid\": \"5801206-7\",\n",
      "      \"sender\": {\n",
      "        \"senderorganization\": \"FDA-Public Use\"\n",
      "      },\n",
      "      \"receivedate\": \"20080707\",\n",
      "      \"patient\": {\n",
      "        \"patientonsetage\": \"26\",\n",
      "        \"patientonsetageunit\": \"801\",\n",
      "        \"patientsex\": \"1\",\n",
      "        \"patientdeath\": {\n",
      "          \"patientdeathdateformat\": null,\n",
      "          \"patientdeathdate\": null\n",
      "        },\n",
      "        \"reaction\": [\n",
      "          {\n",
      "            \"reactionmeddrapt\": \"DRUG ADMINISTRATION ERROR\"\n",
      "          },\n",
      "          {\n",
      "            \"reactionmeddrapt\": \"OVERDOSE\"\n",
      "          }\n",
      "        ],\n",
      "        \"drug\": [\n",
      "          {\n",
      "            \"drugcharacterization\": \"1\",\n",
      "            \"medicinalproduct\": \"DURAGESIC-100\",\n",
      "            \"drugauthorizationnumb\": \"019813\",\n",
      "            \"drugadministrationroute\": \"041\",\n",
      "            \"drugindication\": \"DRUG ABUSE\"\n",
      "          }\n",
      "        ]\n",
      "      },\n",
      "      \"transmissiondate\": \"20090109\",\n",
      "      \"serious\": \"1\",\n",
      "      \"receiptdate\": \"20080625\"\n",
      "    }\n",
      "  ]\n",
      "}\n"
     ]
    }
   ],
   "source": [
    "import requests\n",
    "import json\n",
    "url = \"https://api.fda.gov/drug/event.json?limit=1\"\n",
    "js = requests.get(url).content\n",
    "print(js.decode(\"utf-8\"))"
   ]
  },
  {
   "cell_type": "code",
   "execution_count": 16,
   "metadata": {},
   "outputs": [
    {
     "name": "stdout",
     "output_type": "stream",
     "text": [
      "<?xml version='1.0' encoding='utf8'?>\n",
      "<drug_names><metadata><total_elements>93549</total_elements><elements_per_page>100</elements_per_page><total_pages>936</total_pages><current_page>1</current_page><current_url>https://dailymed.nlm.nih.gov/dailymed/services/v2/drugnames.xml</current_url><previous_page>null</previous_page><previous_page_url>null</previous_page_url><next_page>2</next_page><next_page_url>https://dailymed.nlm.nih.gov/dailymed/services/v2/drugnames.xml?page=2&amp;pagesize=100</next_page_url><db_published_date>Aug 20, 2021 05:13:07PM EST</db_published_date></metadata><drug_name type=\"B\">(AENC) DISINFECTANT WATER-FREE HAND FOAM</drug_name><drug_name type=\"G\">(ANTIHEMOPHILIC FACTOR, RECOMBINANT)</drug_name><drug_name type=\"B\">(BADIFUL) ANTIBACTERIAL WIPES</drug_name><drug_name type=\"B\">(BIOTEMED) INSTANT HAND SANITIZER</drug_name><drug_name type=\"G\">(CALCIUM, MAGNESIUM, POTASSIUM, AND SODIUM OXYBATES)</drug_name><drug_name type=\"G\">(CHLOROPROCAINE HCI</drug_name><drug_name type=\"B\">(CHLOROPROCAINE HCI</drug_name><drug_name type=\"G\">(CIPROFLOXACIN AND FLUOCINOLONE ACETONIDE)</drug_name><drug_name type=\"G\">(COAGULATION FACTOR IX (RECOMBINANT), GLYCOPEGYLATED)</drug_name><drug_name type=\"B\">(CPL) HAND SANITISER</drug_name><drug_name type=\"G\">(DAUNORUBICIN AND CYTARABINE) LIPOSOME</drug_name><drug_name type=\"G\">(EMAPALUMAB-LZSG)</drug_name><drug_name type=\"B\">(ETHANOL62%) DR KEEPS GEL (ETHANOL)</drug_name><drug_name type=\"B\">(ETHANOL70%) DR KEEPS ONE GEL (ETHANOL)</drug_name><drug_name type=\"B\">(ETHANOL72%) DR KEEPS 72 GEL (ETHANOL)</drug_name><drug_name type=\"B\">(EZ-CARE) HAND SANITIZER</drug_name><drug_name type=\"G\">(FEBANTEL, PRAZIQUANTEL, PYRANTEL PAMOATE)</drug_name><drug_name type=\"G\">(FLORFENICOL, TERBINAFINE, MOMETASONE FUROATE)</drug_name><drug_name type=\"B\">(FRULI) 75% ALCOHOL DISINFECTANT</drug_name><drug_name type=\"B\">(FRULI) HAND ANTISEPTIC RINSE FREE GEL</drug_name><drug_name type=\"B\">(FRULI) QUICK-DRY DISPOSABLE HAND SANITIZER</drug_name><drug_name type=\"G\">(INSULIN DEGLUDEC AND LIRAGLUTIDE)</drug_name><drug_name type=\"G\">(METHYLPHENIDATE HYDROCHLORIDE)</drug_name><drug_name type=\"B\">(QIQING) CHLORHEXIDINE GLUCONATE ALCOHOL DISINFECTANT</drug_name><drug_name type=\"B\">(QIQING) SKIN DISINFECTANT</drug_name><drug_name type=\"B\">(QIQING) SODIUM HYPOCHLORITE DISINFECTANT</drug_name><drug_name type=\"B\">(RE) SETTING 100% MINERAL POWDER DEEP BROAD SPECTRUM SPF 35</drug_name><drug_name type=\"B\">(RE) SETTING 100% MINERAL POWDER LIGHT BROAD SPECTRUM SPF 35</drug_name><drug_name type=\"B\">(RE) SETTING 100% MINERAL POWDER MEDIUM BROAD SPECTRUM SUNSCREEN SPF 35</drug_name><drug_name type=\"B\">(RE) SETTING 100% MINERAL POWDER TRANSLUCENT BROAD SPECTRUM SUNSCREEN SPF 35</drug_name><drug_name type=\"G\">(ROSUVASTATIN AND EZETIMIBE)</drug_name><drug_name type=\"G\">(SALINE)</drug_name><drug_name type=\"B\">(SANI-MAXX) ANTI-BACTERIAL WET WIPES</drug_name><drug_name type=\"G\">(SOTRADECOL) SODIUM TETRADECYL SULFATE</drug_name><drug_name type=\"B\">(SOTRADECOL) SODIUM TETRADECYL SULFATE</drug_name><drug_name type=\"G\">(WHOLE PLANT)</drug_name><drug_name type=\"G\">-</drug_name><drug_name type=\"G\">- 70% ISOPROPYL RUBBING ALCOHOL SOLUTION</drug_name><drug_name type=\"G\">.25% IODINE TEAT DIP</drug_name><drug_name type=\"G\">.ALPHA.,.ALPHA.-DIBROMO-D-CAMPHOR AND MENTHOL, UNSPECIFIED FORM</drug_name><drug_name type=\"G\">.ALPHA.,.ALPHA.-DIBROMO-D-CAMPHOR, MENTHOL, UNSPECIFIED FORM, AND CAPSAICIN</drug_name><drug_name type=\"G\">.ALPHA.-KETOGLUTARIC ACID - ACONITIC ACID, CIS - ADENOSINE TRIPHOSPHATE - ALPHA LIPOIC ACID - ASCORBIC ACID - ASIAN GINSENG - BARIUM CATION - BEET - CEROUS OXALATE NONAHYDRATE - COENZYME A - CYSTEINE - FUMARIC ACID - LACTIC ACID, DL - MAGNESIUM CARBONATE - MALIC ACID - MANGANESE PHOSPHATE, DIBASIC - PORK - PYRIDOXINE HYDROCHLORIDE - RIBOFLAVIN - SODIUM DIETHYL OXALACETATE - SODIUM PYRUVATE - SUCCINIC ACID - SUS SCROFA ADRENAL GLAND - THIAMINE HYDROCHLORIDE - SUS SCROFA EMBRYO -</drug_name><drug_name type=\"G\">.ALPHA.-KETOGLUTARIC ACID - ALPHA LIPOIC ACID - ASCORBIC ACID - BARIUM OXALOSUCCINATE - BLACK COHOSH - BRYONIA ALBA ROOT - CALCITONIN HUMAN - CHLORINE - COLCHICUM AUTUMNALE BULB - NADIDE -</drug_name><drug_name type=\"G\">.ALPHA.-KETOGLUTARIC ACID - AMBERGRIS - ANAMIRTA COCCULUS SEED - CONIUM MACULATUM FLOWERING TOP - EPINEPHRINE - FUMARIC ACID - MALIC ACID - MELATONIN - MINERAL OIL - PTERIDIUM AQUILINUM ROOT - PYRIDOXINE HYDROCHLORIDE - QUINHYDRONE - QUININE - SUS SCROFA ARTERY - SUS SCROFA CEREBELLUM - SUS SCROFA PLACENTA - THIAMINE HYDROCHLORIDE - TOBACCO LEAF -</drug_name><drug_name type=\"G\">.ALPHA.-LIPOIC ACID AND AVENA SATIVA FLOWERING TOP AND RICINUS COMMUNIS SEED AND SOLIDAGO VIRGAUREA FLOWERING TOP AND VIOLA TRICOLOR AND BERBERIS VULGARIS ROOT BARK AND CAFFEINE AND JUGLANS REGIA FLOWERING TOP AND FRANGULA PURSHIANA BARK AND URTICA URENS AND CHOLESTEROL AND INFLUENZA A VIRUS A/SINGAPORE/6/86 (H1N1) ANTIGEN (HEAT INACTIVATED) AND KEROSENE AND TOBACCO LEAF AND ALCOHOL, X-RAY EXPOSED (1000 RAD) AND STRYCHNOS NUX-VOMICA SEED</drug_name><drug_name type=\"G\">.ALPHA.-LIPOIC ACID, AVENA SATIVA FLOWERING TOP, BERBERIS VULGARIS ROOT BARK, CAFFEINE, CHOLESTEROL, JUGLANS REGIA FLOWERING TOP, STRYCHNOS NUX-VOMICA SEED, KEROSENE, FRANGULA PURSHIANA BARK, RICINUS COMMUNIS SEED, SOLIDAGO VIRGAUREA FLOWERING TOP, URTICA URENS, VIOLA TRICOLOR, AND ALCOHOL, X-RAY EXPOSED (1000 RAD)</drug_name><drug_name type=\"G\">.ALPHA.-LIPOIC ACID, TURMERIC, OCIMUM TENUIFLORUM TOP, INDIAN FRANKINCENSE, ROSEMARY, SALIX ALBA BARK, AND GINGER</drug_name><drug_name type=\"G\">.ALPHA.-TOCOPHEROL ACETATE, DL-, ASCORBIC ACID, CHOLECALCIFEROL, CYANOCOBALAMIN, FOLIC ACID, FERROUS FUMARATE, CALCIUM PHOSPHATE, DIBASIC, ANHYDROUS, NIACINAMIDE, PYRIDOXINE HYDROCHLORIDE, RIBOFLAVIN, THIAMINE MONONITRATE, AND VITAMIN A ACETATE</drug_name><drug_name type=\"G\">.ALPHA.-TOCOPHEROL ACETATE, DL-, ASCORBIC ACID, CYANOCOBALAMIN, FOLIC ACID, NIACIN, PYRIDOXINE, RIBOFLAVIN, SODIUM FLUORIDE, THIAMINE MONONITRATE, VITAMIN A AND VITAMIN D</drug_name><drug_name type=\"G\">.ALPHA.-TOCOPHEROL ACETATE, DL-, ASCORBIC ACID, CYANOCOBALAMIN, SODIUM FLUORIDE, FOLIC ACID, NIACIN, PYRIDOXINE, RIBOFLAVIN, THIAMINE, VITAMIN A, AND VITAMIN D</drug_name><drug_name type=\"G\">.ALPHA.-TOCOPHEROL ACETATE, DL-, CHOLECALCIFEROL, CYANOCOBALAMIN, FERROUS FUMARATE, FOLIC ACID, NIACINAMIDE, SODIUM ASCORBATE, ASCORBIC ACID, PYRIDOXINE HYDROCHLORIDE, RIBOFLAVIN, AND THIAMINE MONONITRATE</drug_name><drug_name type=\"G\">.ALPHA.-TOCOPHEROL ACETATE, DL-, THIAMINE HYDROCHLORIDE, PYRIDOXINE HYDROCHLORIDE, FOLIC ACID, CYANOCOBALAMIN, THIOCTIC ACID, AND UBIDECARENONE</drug_name><drug_name type=\"B\">.ALPHA.1-PROTEINASE INHIBITOR HUMAN</drug_name><drug_name type=\"G\">.ALPHA.1-PROTEINASE INHIBITOR HUMAN</drug_name><drug_name type=\"G\">.BETA.-CAROTENE, ASCORBIC ACID, CHOLECALCIFEROL, .ALPHA.-TOCOPHEROL ACETATE, D-, THIAMINE MONONITRATE, RIBOFLAVIN, NIACINAMIDE, PYRIDOXINE HYDROCHLORIDE, FOLIC ACID, CYANOCOBALAMIN, CALCIUM CARBONATE, IRON, MAGNESIUM OXIDE, ZINC OXIDE, CUPRIC OXIDE, IODINE</drug_name><drug_name type=\"G\">.BETA.-CAROTENE, ASCORBIC ACID, CHOLECALCIFEROL, .ALPHA.-TOCOPHEROL ACETATE, D-, THIAMINE MONONITRATE, RIBOFLAVIN, NIACINAMIDE, PYRIDOXINE HYDROCHLORIDE, FOLIC ACID, CYANOCOBALAMIN, CALCIUM CARBONATE, IRON, MAGNESIUM OXIDE, ZINC OXIDE, CUPRIC OXIDE, IODINE, OMEGA-3 FATTY ACIDS</drug_name><drug_name type=\"G\">.BETA.-CAROTENE, ASCORBIC ACID, CHOLECALCIFEROL, .ALPHA.-TOCOPHEROL ACETATE, D-, THIAMINE MONONITRATE, RIBOFLAVIN, PYRIDOXINE HYDROCHLORIDE, FOLIC ACID, CYANOCOBALAMIN, IRON, NIACINAMIDE</drug_name><drug_name type=\"G\">.BETA.-CAROTENE, ASCORBIC ACID, CHOLECALCIFEROL, .ALPHA.-TOCOPHEROL ACETATE, DL-, THIAMINE HYDROCHLORIDE, RIBOFLAVIN, NIACINAMIDE, PYRIDOXINE HYDROCHLORIDE, FOLIC ACID, CYANOCOBALAMIN, IRON PENTACARBONYL, MAGNESIUM OXIDE, ZINC OXIDE, AND CUPRIC OXIDE</drug_name><drug_name type=\"G\">.BETA.-CAROTENE, ASCORBIC ACID, CHOLECALCIFEROL, .ALPHA.-TOCOPHEROL ACETATE, DL-, THIAMINE MONONITRATE, RIBOFLAVIN, NIACINAMIDE, PYRIDOXINE HYDROCHLORIDE, FOLIC ACID, 5-METHYLTETRAHYDROFOLIC ACID, CALCIUM FORMATE, FERROUS ASPARTO GLYCINATE, CYANOCOBALAMIN, BIOTIN, POTASSIUM IODIDE, MAGNESIUM OXIDE, ZINC OXIDE AND CUPRIC OXIDE</drug_name><drug_name type=\"G\">.BETA.-CAROTENE, ASCORBIC ACID, CHOLECALCIFEROL, .ALPHA.-TOCOPHEROL ACETATE, DL-, THIAMINE MONONITRATE, RIBOFLAVIN, NIACINAMIDE, PYRIDOXINE HYDROCHLORIDE, FOLIC ACID, CYANOCOBALAMIN, BIOTIN, CALCIUM PANTOTHENATE, CALCIUM CARBONATE, IRON, POTASSIUM IODIDE, MAGNESIUM OXIDE, ZINC OXIDE, AND CUPRIC OXIDE</drug_name><drug_name type=\"G\">.BETA.-CAROTENE, ASCORBIC ACID, CHOLECALCIFEROL, .ALPHA.-TOCOPHEROL ACETATE, DL-, THIAMINE MONONITRATE, RIBOFLAVIN, NIACINAMIDE, PYRIDOXINE HYDROCHLORIDE, FOLIC ACID, CYANOCOBALAMIN, CALCIUM CARBONATE, FERROUS FUMARATE, POTASSIUM IODIDE, AND ZINC OXIDE</drug_name><drug_name type=\"G\">.BETA.-CAROTENE, ASCORBIC ACID, CHOLECALCIFEROL, .ALPHA.-TOCOPHEROL ACETATE, DL-, THIAMINE MONONITRATE, RIBOFLAVIN, NIACINAMIDE, PYRIDOXINE HYDROCHLORIDE, FOLIC ACID, CYANOCOBALAMIN, CALCIUM PANTOTHENATE, CALCIUM CARBONATE, FERROUS FUMARATE, ZINC OXIDE AND DOCUSATE SODIUM</drug_name><drug_name type=\"G\">.BETA.-CAROTENE, ASCORBIC ACID, CHOLECALCIFEROL, .ALPHA.-TOCOPHEROL ACETATE, DL-, THIAMINE MONONITRATE, RIBOFLAVIN, NIACINAMIDE, PYRIDOXINE HYDROCHLORIDE, FOLIC ACID, CYANOCOBALAMIN, CALCIUM PANTOTHENATE, CALCIUM CARBONATE, FERROUS FUMARATE, ZINC OXIDE, AND DOCUSATE SODIUM</drug_name><drug_name type=\"G\">.BETA.-CAROTENE, ASCORBIC ACID, CHOLECALCIFEROL, .ALPHA.-TOCOPHEROL ACETATE, DL-, THIAMINE, RIBOFLAVIN, NIACIN, PYRIDOXINE HYDROCHLORIDE, FOLIC ACID, METHYLCOBALAMIN, CALCIUM CARBONATE, FERROUS BISGLYCINATE, ZINC OXIDE, COPPER, CALCIUM PANTOTHENATE,MAGNESIUM OXIDE</drug_name><drug_name type=\"G\">.BETA.-CAROTENE, ASCORBIC ACID, CHOLECALCIFEROL, .ALPHA.-TOCOPHEROL ACETATE, DL-, THIAMINE, RIBOFLAVIN, NIACINAMIDE, PYRIDOXINE HYDROCHLORIDE, FOLIC ACID, CYANOCOBALAMIN, CALCIUM PANTOTHENATE, CALCIUM CARBONATE, FERROUS FUMARATE, ZINC OXIDE AND DOCUSATE SODIUM</drug_name><drug_name type=\"G\">.BETA.-CAROTENE, ASCORBIC ACID, CHOLECALCIFEROL, .ALPHA.-TOCOPHEROL SUCCINATE, D-, THIAMINE MONONITRATE, RIBOFLAVIN, NIACINAMIDE, PYRIDOXINE HYDROCHLORIDE, FOLIC ACID, CYANOCOBALAMIN, BIOTIN, PANTOTHENIC ACID, IRON, MAGNESIUM OXIDE, ZINC OXIDE, SELENOMETHIONINE, COPPER GLUCONATE, CHROMIUM PICOLINATE, THIOCTIC ACID, LUTEIN, AND LYCOPENE</drug_name><drug_name type=\"G\">.BETA.-CAROTENE, ASCORBIC ACID, CHOLECALCIFEROL, .ALPHA.-TOCOPHEROL SUCCINATE, D-, THIAMINE MONONITRATE, RIBOFLAVIN, NIACINAMIDE, PYRIDOXINE HYDROCHLORIDE, FOLIC ACID, CYANOCOBALAMIN, PANTOTHENIC ACID, IRON PENTACARBONYL, MAGNESIUM OXIDE, ZINC OXIDE, AND COPPER GLUCONATE</drug_name><drug_name type=\"G\">.BETA.-CAROTENE, ASCORBIC ACID, CHOLECALCIFEROL, .ALPHA.-TOCOPHEROL, D-, THIAMINE MONONITRATE, RIBOFLAVIN, NIACINAMIDE, PYRIDOXINE HYDROCHLORIDE, FOLIC ACID, CYANOCOBALAMIN, CALCIUM CARBONATE, IRON, MAGNESIUM, ZINC OXIDE, SODIUM SELENATE, CUPRIC OXIDE, IODINE, CHOLINE</drug_name><drug_name type=\"G\">.BETA.-CAROTENE, ASCORBIC ACID, CHOLECALCIFEROL, .ALPHA.-TOCOPHEROL, D-, THIAMINE MONONITRATE, RIBOFLAVIN, NIACINAMIDE, PYRIDOXINE HYDROCHLORIDE, FOLIC ACID, CYANOCOBALAMIN, CALCIUM CARBONATE, IRON, MAGNESIUM, ZINC OXIDE, SODIUM SELENATE, CUPRIC OXIDE, IODINE, CHOLINE, OMEGA-3 FATTY ACIDS</drug_name><drug_name type=\"G\">.BETA.-CAROTENE, ASCORBIC ACID, CHOLECALCIFEROL, .ALPHA.-TOCOPHERYO ACETATE, DL, THIAMINE MONONITRATE, RIBOFLAVIN, NIACINAMIDE, PYRIDOXINE HYDROCHLORIDE, FOLIC ACID, CYANOCOBALAMIN, MAGNESIUM OXIDE, ZINC OXIDE, AND CUPRIC OXIDE</drug_name><drug_name type=\"G\">.BETA.-CAROTENE, ASCORBIC ACID, CHOLECALCIFEROL, .ALPHA.-TOCOPHERYO ACETATE, DL, THIAMINE MONONITRATE, RIBOFLAVIN, NIACINAMIDE, PYRIDOXINE HYDROCHLORIDE, FOLIC ACID, CYANOCOBALAMIN, MAGNESIUM OXIDE, ZINC OXIDE, CUPRIC OXIDE, AND DOCONEXENT</drug_name><drug_name type=\"G\">.BETA.-CAROTENE, ASCORBIC ACID, CHOLECALCIFEROL, .ALPHA.-TOCOPHERYOL ACETATE-DL, THIAMINE MONONITRATE, RIBOFLAVIN, NIACINAMIDE, PYRIDOXINE HYDROCHLORIDE, FOLIC ACID, CYANOCOBALAMIN, CALCIUM CARBONATE, FERROUS BISGLYCINATE, IRON PROTEIN SUCCINYLATE, MAGNESIUM OXIDE, ZINC OXIDE, CUPRIC OXIDE, AND DOCONEXENT</drug_name><drug_name type=\"G\">.BETA.-CAROTENE, ASCORBIC ACID, SODIUM ASCORBATE, CHOLECALCIFEROL, .ALPHA.-TOCOPHEROL ACETATE, DL-, THIAMINE MONONITRATE, RIBOFLAVIN, NIACINAMIDE, PYRIDOXINE HYDROCHLORIDE, FOLIC ACID, CYANOCOBALAMIN, AND FERROUS FUMARATE</drug_name><drug_name type=\"G\">.BETA.-CAROTENE, CALCIUM ASCORBATE, CHOLECALCIFEROL, .ALPHA.-TOCOPHEROL SUCCINATE, D-, THIAMINE MONONITRATE, RIBOFLAVIN, NIACINAMIDE, PYRIDOXINE HYDROCHLORIDE, FOLIC ACID, CYANOCOBALAMIN, CALCIUM MALATE, IRON, FERROUS ASPARTO GLYCINATE, MAGNESIUM MALATE, ZINC GLYCINATE, AND COPPER</drug_name><drug_name type=\"G\">.BETA.-CAROTENE, VITAMIN A ACETATE, ASCORBIC ACID, CHOLECALCIFEROL, .ALPHA.-TOCOPHEROL ACETATE, DL-, THIAMINE MONONITRATE, RIBOFLAVIN, NIACIN, PYRIDOXINE HYDROCHLORIDE, FOLIC ACID, LEVOMEFOLATE CALCIUM, COBALAMIN, IRON, MAGNESIUM, AND ZINC</drug_name><drug_name type=\"G\">.BETA.-CAROTENE, VITAMIN A ACETATE, ASCORBIC ACID, CHOLECALCIFEROL, .ALPHA.-TOCOPHEROL ACETATE, DL-, THIAMINE MONONITRATE, RIBOFLAVIN, NIACINAMIDE, PYRIDOXINE HYDROCHLORIDE, FOLIC ACID, LEVOMEFOLATE CALCIUM, COBALAMIN, IRON, MAGNESIUM OXIDE, AND ZINC OXIDE</drug_name><drug_name type=\"G\">.BETA.-CAROTENE, VITAMIN A ACETATE, ASCORBIC ACID, CHOLECALCIFEROL, .ALPHA.-TOCOPHEROL ACETATE, DL-, THIAMINE MONONITRATE, RIBOFLAVIN, NIACINAMIDE, PYRIDOXINE HYDROCHLORIDE, FOLIC ACID, LEVOMEFOLATE CALCIUM, COBALAMIN, IRON, MAGNESIUM OXIDE, ZINC OXIDE, AND DOCONEXANT</drug_name><drug_name type=\"G\">.GAMMA.-AMINOBUTYRIC ACID</drug_name><drug_name type=\"B\">.INSULIN ASPART PROTAMINE AND INSULIN ASPART</drug_name><drug_name type=\"G\">.PYRIDOXINE HYDROCHLORIDE, CYANOCOBALAMIN, CALCIUM CARBONATE AND FOLIC ACID</drug_name><drug_name type=\"G\">0.015% TRIAMCINOLONE ACETONIDE</drug_name><drug_name type=\"G\">0.05% OXYMETAZOLINE HCL</drug_name><drug_name type=\"G\">0.1% BENZALKONIUM CHLORIDE INSTANT HAND SANITIZER</drug_name><drug_name type=\"B\">0.1% KETOCONAZOLE, 0.15% SALICYLIC ACID</drug_name><drug_name type=\"G\">0.12% CHLORHEXIDINE GLUCONATE</drug_name><drug_name type=\"B\">0.12% CHLORHEXIDINE GLUCONATE ORAL RINSE</drug_name><drug_name type=\"G\">0.13% BENZAKONIUM CHLORIDE</drug_name><drug_name type=\"G\">0.13% BENZALKONIUM CHLORIDE</drug_name><drug_name type=\"B\">0.13% BENZALKONIUM CHLORIDE INSTANT HAND SANITIZER</drug_name><drug_name type=\"G\">0.13% BENZALKONIUM CHLORIDE SOLUTION</drug_name><drug_name type=\"G\">0.130% BENZALKONIUM ANTISEPTIC WASH</drug_name><drug_name type=\"G\">0.2% BRONOPOL TEAT DIP</drug_name><drug_name type=\"G\">0.2% QUATERNARY AMMONIUM SALT</drug_name><drug_name type=\"G\">0.243% SODIUM FLUORIDE TOOTHPASTE</drug_name><drug_name type=\"G\">0.25% IODINE TEAT DIP</drug_name><drug_name type=\"G\">0.5% HYDROGEN PEROXIDE TEAT DIP</drug_name><drug_name type=\"G\">0.5% IODINE TEAT DIP</drug_name><drug_name type=\"B\">0.5% IODINE TEAT DIP</drug_name><drug_name type=\"G\">0.5% IODINE TEAT DIP/SPRAY</drug_name><drug_name type=\"G\">0.50% IODINE TEAT DIP</drug_name></drug_names>\n"
     ]
    }
   ],
   "source": [
    "import io\n",
    "import requests\n",
    "import xml.etree.ElementTree as et\n",
    "url = \"https://dailymed.nlm.nih.gov/dailymed/services/v2/drugnames.xml\"\n",
    "data = requests.get(url).content\n",
    "x = et.parse(io.StringIO(data.decode(\"utf-8\")))\n",
    "root = x.getroot()\n",
    "print(et.tostring(root, encoding='utf8').decode('utf8'))"
   ]
  },
  {
   "cell_type": "markdown",
   "metadata": {},
   "source": [
    "# Tarefa 2\n",
    "\n",
    "## Engenharia reversa\n",
    "\n",
    "Monte um diagramas que representem modelos dos dados que você terá acesso e como pretende associá-los. Coloque abaixo uma imagem do diagrama."
   ]
  },
  {
   "cell_type": "code",
   "execution_count": null,
   "metadata": {},
   "outputs": [],
   "source": []
  }
 ],
 "metadata": {
  "kernelspec": {
   "display_name": "Python 3",
   "language": "python",
   "name": "python3"
  },
  "language_info": {
   "codemirror_mode": {
    "name": "ipython",
    "version": 3
   },
   "file_extension": ".py",
   "mimetype": "text/x-python",
   "name": "python",
   "nbconvert_exporter": "python",
   "pygments_lexer": "ipython3",
   "version": "3.8.8"
  },
  "toc": {
   "base_numbering": 1,
   "nav_menu": {},
   "number_sections": false,
   "sideBar": false,
   "skip_h1_title": false,
   "title_cell": "Table of Contents",
   "title_sidebar": "Contents",
   "toc_cell": false,
   "toc_position": {},
   "toc_section_display": false,
   "toc_window_display": false
  }
 },
 "nbformat": 4,
 "nbformat_minor": 4
}
